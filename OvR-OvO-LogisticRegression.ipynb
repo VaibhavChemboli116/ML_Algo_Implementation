{
  "nbformat": 4,
  "nbformat_minor": 0,
  "metadata": {
    "colab": {
      "name": "OvR-OvO-LogisticRegression",
      "provenance": []
    },
    "kernelspec": {
      "name": "python3",
      "display_name": "Python 3"
    },
    "language_info": {
      "name": "python"
    }
  },
  "cells": [
    {
      "cell_type": "code",
      "source": [
        "# Imports & Dataset Preparation\n",
        "import numpy as np\n",
        "from sklearn.linear_model import LogisticRegression\n",
        "from matplotlib.pyplot import scatter\n",
        "from sklearn.datasets import load_iris\n",
        "from sklearn.linear_model import LogisticRegression\n",
        "from sklearn.multiclass import OneVsOneClassifier, OneVsRestClassifier\n",
        "from sklearn.model_selection import train_test_split\n",
        "from sklearn.metrics import confusion_matrix, classification_report, accuracy_score\n",
        "from seaborn import heatmap, countplot\n",
        "iris = load_iris()\n",
        "print('Iris dataset details:')\n",
        "print('Features:', iris.feature_names)\n",
        "print('Target classes:', iris.target_names)\n",
        "chosen_feature = 2\n",
        "X = iris.data[:,chosen_feature]\n",
        "y = iris.target\n",
        "X = X.reshape(-1, 1)\n",
        "X_train, X_test, y_train, y_test = train_test_split(X, y, test_size=0.2, random_state=4)"
      ],
      "metadata": {
        "colab": {
          "base_uri": "https://localhost:8080/"
        },
        "id": "Se3eHTbh_lGm",
        "outputId": "5be33939-2300-42f4-a185-6eeed1d3e9fe"
      },
      "execution_count": 1,
      "outputs": [
        {
          "output_type": "stream",
          "name": "stdout",
          "text": [
            "Iris dataset details:\n",
            "Features: ['sepal length (cm)', 'sepal width (cm)', 'petal length (cm)', 'petal width (cm)']\n",
            "Target classes: ['setosa' 'versicolor' 'virginica']\n"
          ]
        }
      ]
    },
    {
      "cell_type": "code",
      "source": [
        "# Logistic Regression Implementation\n",
        "\n",
        "class LogisticRegressionModel():\n",
        "    def __init__(self, X, y, learning_rate=0.05, iterations=10000):      \n",
        "        self.learning_rate = learning_rate\n",
        "        self.X = np.asarray(X)\n",
        "        self.y = np.asarray(y)\n",
        "        self.m, self.n = self.X.shape\n",
        "        self.W = np.zeros(self.n)\n",
        "        self.b = 0\n",
        "        for i in range(iterations):\n",
        "            self.update_weights()\n",
        "            \n",
        "    def update_weights(self) :           \n",
        "        a = 1/(1+np.exp(-(self.X.dot(self.W)+self.b))) \n",
        "        dz = a - self.y.T        \n",
        "        dz = np.reshape(dz, self.m)        \n",
        "        dW = np.dot(self.X.T, dz)/self.m         \n",
        "        db = np.sum(dz)/self.m\n",
        "        self.W = self.W - self.learning_rate * dW    \n",
        "        self.b = self.b - self.learning_rate * db\n",
        "    \n",
        "    def predict_proba(self, X):\n",
        "        return 1/(1 + np.exp(-(X.dot(self.W)+self.b)))\n",
        "\n",
        "    def predict(self, X):\n",
        "        Z = self.predict_proba(X)     \n",
        "        y = np.where(Z > 0.5, 1, 0)\n",
        "        return y"
      ],
      "metadata": {
        "id": "7wVW4A2RSLKK"
      },
      "execution_count": 2,
      "outputs": []
    },
    {
      "cell_type": "markdown",
      "source": [
        "# One vs Rest Classification using Logistic Regression"
      ],
      "metadata": {
        "id": "U1TfBubpNTVy"
      }
    },
    {
      "cell_type": "markdown",
      "source": [
        "### Custom Implementation"
      ],
      "metadata": {
        "id": "oesnX9OiwQ5K"
      }
    },
    {
      "cell_type": "code",
      "source": [
        "# One-Many Classifier\n",
        "\n",
        "class OneOnManyClassifier:\n",
        "    def __init__(self, X, y):\n",
        "        self.X = X\n",
        "        self.y = y\n",
        "        self._classes = classes = sorted(set(y))\n",
        "        self._classifiers = classifiers = []\n",
        "        self._classified_data = classified_data = {}\n",
        "        for Xi, yi in zip(X, y):\n",
        "            classified_data[yi] = classified_data.get(yi, [])+[Xi]\n",
        "        # Generate n classifiers\n",
        "        for i, ci in enumerate(classes):\n",
        "            X_ci = classified_data[ci]\n",
        "            y_ci = [1]*len(X_ci)\n",
        "            X_cr = []\n",
        "            for j, cj in enumerate(classes):\n",
        "                if i==j: continue\n",
        "                X_cr+=classified_data[cj]\n",
        "            y_cr = [0]*len(X_cr)\n",
        "            model = LogisticRegressionModel(X_ci+X_cr, y_ci+y_cr)\n",
        "            classifiers.append(model)\n",
        "\n",
        "    def predict(self, X):\n",
        "        ys = []\n",
        "        for classifier in self._classifiers:\n",
        "            ys.append(classifier.predict_proba(X))\n",
        "        y = []\n",
        "        for i in range(len(X)):\n",
        "            for j, ysj in enumerate(ys):\n",
        "                v = ysj[i]\n",
        "                if j==0 or v>mv:\n",
        "                    mv = v\n",
        "                    m = j\n",
        "            yi = self._classes[m]\n",
        "            y.append(yi)\n",
        "        return y"
      ],
      "metadata": {
        "id": "GlN28vwy0Bny"
      },
      "execution_count": 3,
      "outputs": []
    },
    {
      "cell_type": "code",
      "source": [
        "# Using Custom-Written Code\n",
        "\n",
        "custom_classifier = OneOnManyClassifier(X_train, y_train)\n",
        "y_prediction = custom_classifier.predict(X_test)\n",
        "\n",
        "print('No. of binary classifiers used:', len(custom_classifier._classifiers))\n",
        "print('Accuracy:', accuracy_score(y_test, y_prediction))\n",
        "print('\\nClassification Report:\\n\\n', classification_report(y_test, y_prediction, target_names=iris.target_names))\n",
        "c_m = confusion_matrix(y_test, y_prediction)\n",
        "h_m = heatmap(data=c_m, annot=True, fmt='g', xticklabels=iris.target_names, yticklabels=iris.target_names)\n",
        "h_m.set(xlabel='PREDICTED', ylabel='ACTUAL')\n",
        "display(h_m)"
      ],
      "metadata": {
        "colab": {
          "base_uri": "https://localhost:8080/",
          "height": 561
        },
        "id": "bjqfRDL2TCI9",
        "outputId": "1b3c0e5a-de1e-438c-87a0-79dbb2e72eca"
      },
      "execution_count": 4,
      "outputs": [
        {
          "output_type": "stream",
          "name": "stdout",
          "text": [
            "No. of binary classifiers used: 3\n",
            "Accuracy: 0.9666666666666667\n",
            "\n",
            "Classification Report:\n",
            "\n",
            "               precision    recall  f1-score   support\n",
            "\n",
            "      setosa       1.00      1.00      1.00        16\n",
            "  versicolor       1.00      0.80      0.89         5\n",
            "   virginica       0.90      1.00      0.95         9\n",
            "\n",
            "    accuracy                           0.97        30\n",
            "   macro avg       0.97      0.93      0.95        30\n",
            "weighted avg       0.97      0.97      0.97        30\n",
            "\n"
          ]
        },
        {
          "output_type": "display_data",
          "data": {
            "text/plain": [
              "<matplotlib.axes._subplots.AxesSubplot at 0x7faa034b1c90>"
            ]
          },
          "metadata": {}
        },
        {
          "output_type": "display_data",
          "data": {
            "text/plain": [
              "<Figure size 432x288 with 2 Axes>"
            ],
            "image/png": "[encoded data removed]"
          },
          "metadata": {
            "needs_background": "light"
          }
        }
      ]
    },
    {
      "cell_type": "markdown",
      "source": [
        "### Custom Implementation with SKLearn Logistic Regression"
      ],
      "metadata": {
        "id": "hbiI961e6jBF"
      }
    },
    {
      "cell_type": "code",
      "source": [
        "# One-Many Classifier\n",
        "\n",
        "class OneOnManyClassifierSKL:\n",
        "    def __init__(self, X, y):\n",
        "        self.X = X\n",
        "        self.y = y\n",
        "        self._classes = classes = sorted(set(y))\n",
        "        self._classifiers = classifiers = []\n",
        "        self._classified_data = classified_data = {}\n",
        "        for Xi, yi in zip(X, y):\n",
        "            classified_data[yi] = classified_data.get(yi, [])+[Xi]\n",
        "        # Generate n classifiers\n",
        "        for i, ci in enumerate(classes):\n",
        "            X_ci = classified_data[ci]\n",
        "            y_ci = [1]*len(X_ci)\n",
        "            X_cr = []\n",
        "            for j, cj in enumerate(classes):\n",
        "                if i==j: continue\n",
        "                X_cr+=classified_data[cj]\n",
        "            y_cr = [0]*len(X_cr)\n",
        "            model = LogisticRegression(random_state = 0)\n",
        "            model.fit(X_ci+X_cr, y_ci+y_cr)\n",
        "            classifiers.append(model)\n",
        "\n",
        "    def predict(self, X):\n",
        "        ys = []\n",
        "        for classifier in self._classifiers:\n",
        "            ys.append(classifier.predict_proba(X)[:,1])\n",
        "        y = []\n",
        "        for i in range(len(X)):\n",
        "            for j, ysj in enumerate(ys):\n",
        "                v = ysj[i]\n",
        "                if j==0 or v>mv:\n",
        "                    mv = v\n",
        "                    m = j\n",
        "            yi = self._classes[m]\n",
        "            y.append(yi)\n",
        "        return y"
      ],
      "metadata": {
        "id": "H75sKFxW6tm8"
      },
      "execution_count": 5,
      "outputs": []
    },
    {
      "cell_type": "code",
      "source": [
        "# Using Custom-Written Code\n",
        "\n",
        "custom_classifier = OneOnManyClassifierSKL(X_train, y_train)\n",
        "y_prediction = custom_classifier.predict(X_test)\n",
        "\n",
        "print('No. of binary classifiers used:', len(custom_classifier._classifiers))\n",
        "print('Accuracy:', accuracy_score(y_test, y_prediction))\n",
        "print('\\nClassification Report:\\n\\n', classification_report(y_test, y_prediction, target_names=iris.target_names))\n",
        "c_m = confusion_matrix(y_test, y_prediction)\n",
        "h_m = heatmap(data=c_m, annot=True, fmt='g', xticklabels=iris.target_names, yticklabels=iris.target_names)\n",
        "h_m.set(xlabel='PREDICTED', ylabel='ACTUAL')\n",
        "display(h_m)"
      ],
      "metadata": {
        "colab": {
          "base_uri": "https://localhost:8080/",
          "height": 561
        },
        "id": "HPcc78F8_iE6",
        "outputId": "70545064-8592-4d76-d7f2-fb3a6f385aea"
      },
      "execution_count": 6,
      "outputs": [
        {
          "output_type": "stream",
          "name": "stdout",
          "text": [
            "No. of binary classifiers used: 3\n",
            "Accuracy: 0.9666666666666667\n",
            "\n",
            "Classification Report:\n",
            "\n",
            "               precision    recall  f1-score   support\n",
            "\n",
            "      setosa       1.00      1.00      1.00        16\n",
            "  versicolor       1.00      0.80      0.89         5\n",
            "   virginica       0.90      1.00      0.95         9\n",
            "\n",
            "    accuracy                           0.97        30\n",
            "   macro avg       0.97      0.93      0.95        30\n",
            "weighted avg       0.97      0.97      0.97        30\n",
            "\n"
          ]
        },
        {
          "output_type": "display_data",
          "data": {
            "text/plain": [
              "<matplotlib.axes._subplots.AxesSubplot at 0x7faa02b71a10>"
            ]
          },
          "metadata": {}
        },
        {
          "output_type": "display_data",
          "data": {
            "text/plain": [
              "<Figure size 432x288 with 2 Axes>"
            ],
            "image/png": "[encoded data removed]"
          },
          "metadata": {
            "needs_background": "light"
          }
        }
      ]
    },
    {
      "cell_type": "markdown",
      "source": [
        "### SKlearn"
      ],
      "metadata": {
        "id": "NIc4kLUrwLXt"
      }
    },
    {
      "cell_type": "code",
      "source": [
        "# Using SKlearn\n",
        "\n",
        "model = LogisticRegression(random_state = 0)\n",
        "classifier = OneVsRestClassifier(model)\n",
        "classifier.fit(X_train, y_train)\n",
        "y_prediction = classifier.predict(X_test)\n",
        "\n",
        "print('Accuracy:', accuracy_score(y_test, y_prediction))\n",
        "print('\\nClassification Report:\\n\\n', classification_report(y_test, y_prediction, target_names=iris.target_names))\n",
        "c_m = confusion_matrix(y_test, y_prediction)\n",
        "h_m = heatmap(data=c_m, annot=True, fmt='g', xticklabels=iris.target_names, yticklabels=iris.target_names)\n",
        "h_m.set(xlabel='PREDICTED', ylabel='ACTUAL')\n",
        "display(h_m)"
      ],
      "metadata": {
        "colab": {
          "base_uri": "https://localhost:8080/",
          "height": 543
        },
        "id": "YD3YQGmH_q-Y",
        "outputId": "8a2e8e09-60cb-45b7-b94f-284362136dd9"
      },
      "execution_count": 7,
      "outputs": [
        {
          "output_type": "stream",
          "name": "stdout",
          "text": [
            "Accuracy: 0.9666666666666667\n",
            "\n",
            "Classification Report:\n",
            "\n",
            "               precision    recall  f1-score   support\n",
            "\n",
            "      setosa       1.00      1.00      1.00        16\n",
            "  versicolor       1.00      0.80      0.89         5\n",
            "   virginica       0.90      1.00      0.95         9\n",
            "\n",
            "    accuracy                           0.97        30\n",
            "   macro avg       0.97      0.93      0.95        30\n",
            "weighted avg       0.97      0.97      0.97        30\n",
            "\n"
          ]
        },
        {
          "output_type": "display_data",
          "data": {
            "text/plain": [
              "<matplotlib.axes._subplots.AxesSubplot at 0x7faa02c95e50>"
            ]
          },
          "metadata": {}
        },
        {
          "output_type": "display_data",
          "data": {
            "text/plain": [
              "<Figure size 432x288 with 2 Axes>"
            ],
            "image/png": "[encoded data removed]"
          },
          "metadata": {
            "needs_background": "light"
          }
        }
      ]
    },
    {
      "cell_type": "markdown",
      "source": [
        "# One vs One Classifier using Logistic Regression"
      ],
      "metadata": {
        "id": "1BrGYgB4Nckq"
      }
    },
    {
      "cell_type": "markdown",
      "source": [
        "### Custom Implementation"
      ],
      "metadata": {
        "id": "DiRZnTVBwa82"
      }
    },
    {
      "cell_type": "code",
      "source": [
        "# One-One Classifier\n",
        "\n",
        "class OneOnOneClassifier:\n",
        "    def __init__(self, X, y):\n",
        "        self.X = X\n",
        "        self.y = y\n",
        "        self._classes = classes = sorted(set(y))\n",
        "        self._classifiers = classifiers = []\n",
        "        self._classified_data = classified_data = {}\n",
        "        for Xi, yi in zip(X, y):\n",
        "            classified_data[yi] = classified_data.get(yi, [])+[Xi]\n",
        "        # Generate n*(n-1)/2 classifiers\n",
        "        for i, ci in enumerate(classes):\n",
        "            X_ci = classified_data[ci]\n",
        "            y_ci = [1]*len(X_ci)\n",
        "            for cj in classes[i+1:]:\n",
        "                X_cj = classified_data[cj]\n",
        "                y_cj = [0]*len(X_cj)\n",
        "                model = LogisticRegressionModel(X_ci+X_cj, y_ci+y_cj)\n",
        "                classifiers.append((model, ci, cj))\n",
        "\n",
        "    def predict(self, X):\n",
        "        ys = []\n",
        "        for model, ci, cj in self._classifiers:\n",
        "            y_p = model.predict(X)\n",
        "            y_p = np.where(y_p==1, ci, cj)\n",
        "            ys.append(y_p)\n",
        "        y = []\n",
        "        for i in range(len(X)):\n",
        "            d = {}\n",
        "            for j, ysj in enumerate(ys):\n",
        "                v = ysj[i]\n",
        "                d[v] = d.get(v, 0)+1\n",
        "            yi = sorted(d, key=lambda x:d[x])[-1]\n",
        "            y.append(yi)\n",
        "        return y"
      ],
      "metadata": {
        "id": "eC-DLhVd0GT6"
      },
      "execution_count": 8,
      "outputs": []
    },
    {
      "cell_type": "code",
      "source": [
        "# Using Custom-Written Code\n",
        "\n",
        "custom_classifier = OneOnOneClassifier(X_train, y_train)\n",
        "y_prediction = custom_classifier.predict(X_test)\n",
        "\n",
        "print('No. of binary classifiers used:', len(custom_classifier._classifiers))\n",
        "print('Accuracy:', accuracy_score(y_test, y_prediction))\n",
        "print('\\nClassification Report:\\n\\n', classification_report(y_test, y_prediction, target_names=iris.target_names))\n",
        "c_m = confusion_matrix(y_test, y_prediction)\n",
        "h_m = heatmap(data=c_m, annot=True, fmt='g', xticklabels=iris.target_names, yticklabels=iris.target_names)\n",
        "h_m.set(xlabel='PREDICTED', ylabel='ACTUAL')\n",
        "display(h_m)"
      ],
      "metadata": {
        "colab": {
          "base_uri": "https://localhost:8080/",
          "height": 561
        },
        "id": "9qbwYeux-bxe",
        "outputId": "a33a9310-7e92-4986-e69d-af85fd76d4f2"
      },
      "execution_count": 9,
      "outputs": [
        {
          "output_type": "stream",
          "name": "stdout",
          "text": [
            "No. of binary classifiers used: 3\n",
            "Accuracy: 0.9666666666666667\n",
            "\n",
            "Classification Report:\n",
            "\n",
            "               precision    recall  f1-score   support\n",
            "\n",
            "      setosa       1.00      1.00      1.00        16\n",
            "  versicolor       1.00      0.80      0.89         5\n",
            "   virginica       0.90      1.00      0.95         9\n",
            "\n",
            "    accuracy                           0.97        30\n",
            "   macro avg       0.97      0.93      0.95        30\n",
            "weighted avg       0.97      0.97      0.97        30\n",
            "\n"
          ]
        },
        {
          "output_type": "display_data",
          "data": {
            "text/plain": [
              "<matplotlib.axes._subplots.AxesSubplot at 0x7faa025b94d0>"
            ]
          },
          "metadata": {}
        },
        {
          "output_type": "display_data",
          "data": {
            "text/plain": [
              "<Figure size 432x288 with 2 Axes>"
            ],
            "image/png": "[encoded data removed]"
          },
          "metadata": {
            "needs_background": "light"
          }
        }
      ]
    },
    {
      "cell_type": "markdown",
      "source": [
        "### Custom Implementation with SKLearn Logistic Regression"
      ],
      "metadata": {
        "id": "UEk_rR7heDO4"
      }
    },
    {
      "cell_type": "code",
      "source": [
        "# One-Many Classifier\n",
        "\n",
        "class OneOnManyClassifierSKL:\n",
        "    def __init__(self, X, y):\n",
        "        self.X = X\n",
        "        self.y = y\n",
        "        self._classes = classes = sorted(set(y))\n",
        "        self._classifiers = classifiers = []\n",
        "        self._classified_data = classified_data = {}\n",
        "        for Xi, yi in zip(X, y):\n",
        "            classified_data[yi] = classified_data.get(yi, [])+[Xi]\n",
        "        # Generate n classifiers\n",
        "        for i, ci in enumerate(classes):\n",
        "            X_ci = classified_data[ci]\n",
        "            y_ci = [1]*len(X_ci)\n",
        "            X_cr = []\n",
        "            for j, cj in enumerate(classes):\n",
        "                if i==j: continue\n",
        "                X_cr+=classified_data[cj]\n",
        "            y_cr = [0]*len(X_cr)\n",
        "            model = LogisticRegression(random_state = 0)\n",
        "            model.fit(X_ci+X_cr, y_ci+y_cr)\n",
        "            classifiers.append(model)\n",
        "\n",
        "    def predict(self, X):\n",
        "        ys = []\n",
        "        for classifier in self._classifiers:\n",
        "            ys.append(classifier.predict_proba(X)[:,1])\n",
        "        y = []\n",
        "        for i in range(len(X)):\n",
        "            for j, ysj in enumerate(ys):\n",
        "                v = ysj[i]\n",
        "                if j==0 or v>mv:\n",
        "                    mv = v\n",
        "                    m = j\n",
        "            yi = self._classes[m]\n",
        "            y.append(yi)\n",
        "        return y"
      ],
      "metadata": {
        "id": "O98YJeY-eDO5"
      },
      "execution_count": 10,
      "outputs": []
    },
    {
      "cell_type": "code",
      "source": [
        "# Using Custom-Written Code\n",
        "\n",
        "custom_classifier = OneOnManyClassifierSKL(X_train, y_train)\n",
        "y_prediction = custom_classifier.predict(X_test)\n",
        "\n",
        "print('No. of binary classifiers used:', len(custom_classifier._classifiers))\n",
        "print('Accuracy:', accuracy_score(y_test, y_prediction))\n",
        "print('\\nClassification Report:\\n\\n', classification_report(y_test, y_prediction, target_names=iris.target_names))\n",
        "c_m = confusion_matrix(y_test, y_prediction)\n",
        "h_m = heatmap(data=c_m, annot=True, fmt='g', xticklabels=iris.target_names, yticklabels=iris.target_names)\n",
        "h_m.set(xlabel='PREDICTED', ylabel='ACTUAL')\n",
        "display(h_m)"
      ],
      "metadata": {
        "colab": {
          "base_uri": "https://localhost:8080/",
          "height": 561
        },
        "outputId": "de0d79af-4726-413a-f7b9-5eb89f7ed761",
        "id": "_jJkBHC7eDO7"
      },
      "execution_count": 11,
      "outputs": [
        {
          "output_type": "stream",
          "name": "stdout",
          "text": [
            "No. of binary classifiers used: 3\n",
            "Accuracy: 0.9666666666666667\n",
            "\n",
            "Classification Report:\n",
            "\n",
            "               precision    recall  f1-score   support\n",
            "\n",
            "      setosa       1.00      1.00      1.00        16\n",
            "  versicolor       1.00      0.80      0.89         5\n",
            "   virginica       0.90      1.00      0.95         9\n",
            "\n",
            "    accuracy                           0.97        30\n",
            "   macro avg       0.97      0.93      0.95        30\n",
            "weighted avg       0.97      0.97      0.97        30\n",
            "\n"
          ]
        },
        {
          "output_type": "display_data",
          "data": {
            "text/plain": [
              "<matplotlib.axes._subplots.AxesSubplot at 0x7faa02487bd0>"
            ]
          },
          "metadata": {}
        },
        {
          "output_type": "display_data",
          "data": {
            "text/plain": [
              "<Figure size 432x288 with 2 Axes>"
            ],
            "image/png": "[encoded data removed]"
          },
          "metadata": {
            "needs_background": "light"
          }
        }
      ]
    },
    {
      "cell_type": "markdown",
      "source": [
        "### SKlearn"
      ],
      "metadata": {
        "id": "-HOLfkIkwdSD"
      }
    },
    {
      "cell_type": "code",
      "source": [
        "# Using Sklearn\n",
        "\n",
        "model = LogisticRegression(random_state = 0)\n",
        "classifier = OneVsOneClassifier(model)\n",
        "classifier.fit(X_train, y_train)\n",
        "y_prediction = classifier.predict(X_test)\n",
        "\n",
        "print('Accuracy:', accuracy_score(y_test, y_prediction))\n",
        "print('\\nClassification Report:\\n\\n', classification_report(y_test, y_prediction, target_names=iris.target_names))\n",
        "c_m = confusion_matrix(y_test, y_prediction)\n",
        "h_m = heatmap(data=c_m, annot=True, fmt='g', xticklabels=iris.target_names, yticklabels=iris.target_names)\n",
        "h_m.set(xlabel='PREDICTED', ylabel='ACTUAL')\n",
        "display(h_m)"
      ],
      "metadata": {
        "colab": {
          "base_uri": "https://localhost:8080/",
          "height": 543
        },
        "id": "Laa60IhC-cYZ",
        "outputId": "6ff83d56-3e90-4cee-a9a1-899be43fd963"
      },
      "execution_count": 12,
      "outputs": [
        {
          "output_type": "stream",
          "name": "stdout",
          "text": [
            "Accuracy: 0.9666666666666667\n",
            "\n",
            "Classification Report:\n",
            "\n",
            "               precision    recall  f1-score   support\n",
            "\n",
            "      setosa       1.00      1.00      1.00        16\n",
            "  versicolor       1.00      0.80      0.89         5\n",
            "   virginica       0.90      1.00      0.95         9\n",
            "\n",
            "    accuracy                           0.97        30\n",
            "   macro avg       0.97      0.93      0.95        30\n",
            "weighted avg       0.97      0.97      0.97        30\n",
            "\n"
          ]
        },
        {
          "output_type": "display_data",
          "data": {
            "text/plain": [
              "<matplotlib.axes._subplots.AxesSubplot at 0x7faa02554690>"
            ]
          },
          "metadata": {}
        },
        {
          "output_type": "display_data",
          "data": {
            "text/plain": [
              "<Figure size 432x288 with 2 Axes>"
            ],
            "image/png": "[encoded data removed]"
          },
          "metadata": {
            "needs_background": "light"
          }
        }
      ]
    }
  ]
}